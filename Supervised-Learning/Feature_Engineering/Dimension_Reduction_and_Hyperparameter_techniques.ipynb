{
 "cells": [
  {
   "cell_type": "markdown",
   "id": "b764e864",
   "metadata": {},
   "source": [
    "### Q07 Implement dimension reduction techniques (PCA, LDA) and hyperparameter techniques (GridSearchCV) using scikitlearn.\n"
   ]
  },
  {
   "cell_type": "markdown",
   "id": "ab75487a",
   "metadata": {},
   "source": [
    "#### Dimension reduction techniques"
   ]
  },
  {
   "cell_type": "code",
   "execution_count": 8,
   "id": "47b46c50",
   "metadata": {},
   "outputs": [
    {
     "name": "stdout",
     "output_type": "stream",
     "text": [
      "(178, 13)\n",
      "(178,)\n"
     ]
    }
   ],
   "source": [
    "import numpy as np\n",
    "from sklearn.datasets import load_wine\n",
    "wine=load_wine()\n",
    "x=wine.data\n",
    "y=wine.target\n",
    "print(x.shape)\n",
    "print(y.shape)"
   ]
  },
  {
   "cell_type": "code",
   "execution_count": 3,
   "id": "080cc48b",
   "metadata": {},
   "outputs": [
    {
     "name": "stdout",
     "output_type": "stream",
     "text": [
      "(178, 13)\n",
      "(124, 13)\n",
      "(54, 13)\n",
      "(124,)\n",
      "(54,)\n"
     ]
    }
   ],
   "source": [
    "from sklearn.model_selection import train_test_split\n",
    "x_train,x_test,y_train,y_test=train_test_split(x,y,test_size=0.3,random_state=0)\n",
    "print(x.shape)\n",
    "print(x_train.shape)\n",
    "print(x_test.shape)\n",
    "print(y_train.shape)\n",
    "print(y_test.shape)"
   ]
  },
  {
   "cell_type": "code",
   "execution_count": 5,
   "id": "3336d996",
   "metadata": {},
   "outputs": [
    {
     "name": "stdout",
     "output_type": "stream",
     "text": [
      "Original Dimension:(124, 13)\n",
      "Reduced Dimention: (54, 6)\n"
     ]
    }
   ],
   "source": [
    "# method-1[PCA,Principle Component Analysis] PCA is Supervised\n",
    "from sklearn.decomposition import PCA\n",
    "pca = PCA(n_components=6)# in this case range is from 1-13\n",
    "x_train_pca=pca.fit_transform(x_train)\n",
    "x_test_pca=pca.transform(x_test)\n",
    "print(f'Original Dimension:{x_train.shape}')\n",
    "print(f'Reduced Dimention: {x_test_pca.shape}')"
   ]
  },
  {
   "cell_type": "code",
   "execution_count": 6,
   "id": "13766811",
   "metadata": {},
   "outputs": [
    {
     "data": {
      "text/plain": [
       "array([9.97780878e-01, 2.02866550e-03, 1.07203458e-04, 5.65267380e-05,\n",
       "       1.08585276e-05, 8.88918523e-06])"
      ]
     },
     "execution_count": 6,
     "metadata": {},
     "output_type": "execute_result"
    }
   ],
   "source": [
    "pca.explained_variance_ratio_"
   ]
  },
  {
   "cell_type": "code",
   "execution_count": 11,
   "id": "e3da5d3e",
   "metadata": {},
   "outputs": [
    {
     "name": "stdout",
     "output_type": "stream",
     "text": [
      "Original Dimension:(124, 13)\n",
      "Reduced Shape:(124, 2)\n"
     ]
    }
   ],
   "source": [
    "# Method -2 [LDA,Linear Discriminant Analysis]\n",
    "from sklearn.discriminant_analysis import LinearDiscriminantAnalysis as LDA\n",
    "lda=LDA(n_components=2)\n",
    "x_train_lda=lda.fit_transform(x_train,y_train)\n",
    "x_test_lda=lda.transform(x_test)\n",
    "print(f'Original Dimension:{x_train.shape}')\n",
    "print(f'Reduced Shape:{x_train_lda.shape}')"
   ]
  },
  {
   "cell_type": "code",
   "execution_count": 12,
   "id": "9de0b3f6",
   "metadata": {},
   "outputs": [
    {
     "data": {
      "text/plain": [
       "array([0.73846314, 0.26153686])"
      ]
     },
     "execution_count": 12,
     "metadata": {},
     "output_type": "execute_result"
    }
   ],
   "source": [
    "lda.explained_variance_ratio_"
   ]
  },
  {
   "cell_type": "markdown",
   "id": "3205895d",
   "metadata": {},
   "source": [
    "#### hyperparameter techniques"
   ]
  },
  {
   "cell_type": "code",
   "execution_count": 20,
   "id": "343a4961",
   "metadata": {},
   "outputs": [
    {
     "name": "stdout",
     "output_type": "stream",
     "text": [
      "{'C': 1, 'gamma': 0.001, 'kernel': 'linear'}\n"
     ]
    }
   ],
   "source": [
    "from sklearn.model_selection import GridSearchCV\n",
    "from sklearn.svm import SVC\n",
    "\n",
    "# Create a grid of hyperparameters to tune\n",
    "param_grid = {'C': [1, 10, 100], 'gamma': [0.001, 0.0001,0.00001],'kernel':[\"linear\",\"rbf\"]}\n",
    "\n",
    "# Create a support vector machine classifier\n",
    "clf = SVC()\n",
    "\n",
    "# Create a GridSearchCV object\n",
    "grid_search = GridSearchCV(clf, param_grid, cv=5)\n",
    "\n",
    "# Fit the GridSearchCV object to the training data\n",
    "grid_search.fit(x_train, y_train)\n",
    "\n",
    "# Print the best hyperparameters\n",
    "print(grid_search.best_params_)\n"
   ]
  }
 ],
 "metadata": {
  "kernelspec": {
   "display_name": "Python 3 (ipykernel)",
   "language": "python",
   "name": "python3"
  },
  "language_info": {
   "codemirror_mode": {
    "name": "ipython",
    "version": 3
   },
   "file_extension": ".py",
   "mimetype": "text/x-python",
   "name": "python",
   "nbconvert_exporter": "python",
   "pygments_lexer": "ipython3",
   "version": "3.11.4"
  }
 },
 "nbformat": 4,
 "nbformat_minor": 5
}
