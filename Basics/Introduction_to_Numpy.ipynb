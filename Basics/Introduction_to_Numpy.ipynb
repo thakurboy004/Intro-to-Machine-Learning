{
 "cells": [
  {
   "cell_type": "markdown",
   "metadata": {},
   "source": [
    "### Q1 Implement of basic python for numerical computation (numpy) for machine learning."
   ]
  },
  {
   "cell_type": "code",
   "execution_count": 2,
   "metadata": {},
   "outputs": [
    {
     "name": "stdout",
     "output_type": "stream",
     "text": [
      "[1 2 3 4 5 6 7 8 9]\n",
      "[1 2 3 4 5 6 7 8 9]\n",
      "[6 7 8 9]\n",
      "[1 2 3 4 5 6 7]\n",
      "[3 4 5 6 7 8 9]\n",
      "[3 5 7 9]\n"
     ]
    }
   ],
   "source": [
    "import numpy as np\n",
    "x=np.array([1,2,3,4,5,6,7,8,9])\n",
    "print(x)\n",
    "print(x[::]) # whole\n",
    "print(x[5:]) # 5th index onward\n",
    "print(x[:7]) # till 6th index\n",
    "print(x[2:9]) # 2nd to 8th index\n",
    "print(x[2:9:2]) # 2nd to 8th index increment by 2"
   ]
  },
  {
   "cell_type": "code",
   "execution_count": 3,
   "metadata": {},
   "outputs": [
    {
     "name": "stdout",
     "output_type": "stream",
     "text": [
      "[0.  0.2 0.4 0.6 0.8 1.  1.2 1.4 1.6 1.8 2.  2.2 2.4 2.6 2.8 3.  3.2 3.4\n",
      " 3.6 3.8 4.  4.2 4.4 4.6 4.8 5.  5.2 5.4 5.6 5.8 6.  6.2 6.4 6.6 6.8 7.\n",
      " 7.2 7.4 7.6 7.8 8.  8.2 8.4 8.6 8.8 9.  9.2 9.4 9.6 9.8]\n",
      "[ 0.   2.5  5.   7.5 10. ]\n"
     ]
    }
   ],
   "source": [
    "x=np.arange(0,10,0.2) # increment by 0.2\n",
    "print(x)\n",
    "y=np.linspace(0,10,5) # divide 0 to 10 in 20 equal partition\n",
    "print(y)"
   ]
  },
  {
   "cell_type": "code",
   "execution_count": 4,
   "metadata": {
    "scrolled": true
   },
   "outputs": [
    {
     "name": "stdout",
     "output_type": "stream",
     "text": [
      "[[1 2 3 4]\n",
      " [3 4 5 6]]\n",
      "(2, 4)\n",
      "Dimension= 2\n",
      "[[5 6]]\n",
      "[3 5]\n",
      "[3 4 5 6]\n"
     ]
    }
   ],
   "source": [
    "x=np.array([[1,2,3,4],[3,4,5,6]])\n",
    "print(x)\n",
    "print(x.shape)\n",
    "print('Dimension=',len(x.shape))\n",
    "###### slicing\n",
    "print(x[1:3,2:4])\n",
    "print(x[:,2])\n",
    "print(x[1,:])"
   ]
  },
  {
   "cell_type": "code",
   "execution_count": 5,
   "metadata": {},
   "outputs": [
    {
     "name": "stdout",
     "output_type": "stream",
     "text": [
      "(1, 2, 4)\n",
      "(2, 4)\n"
     ]
    }
   ],
   "source": [
    "######## increase and decrease dimension\n",
    "a=np.expand_dims(x,axis=0) # axis 0,1,2 already (2,4)\n",
    "print(a.shape)\n",
    "b=np.squeeze(a,axis=0) # delete extra dimension value=1\n",
    "print(b.shape)"
   ]
  },
  {
   "cell_type": "code",
   "execution_count": 6,
   "metadata": {},
   "outputs": [
    {
     "name": "stdout",
     "output_type": "stream",
     "text": [
      "0.14399578534631663\n",
      "[[0.02618794 0.66045382 0.63860223 0.14048234 0.40589342]\n",
      " [0.74732727 0.56060936 0.74408566 0.00438875 0.60954159]]\n",
      "85\n",
      "[[32 11 34 70  3]\n",
      " [91 13 78 71 26]]\n"
     ]
    }
   ],
   "source": [
    "##### special matrix\n",
    "a=np.zeros((3,4))\n",
    "b=np.ones((4,5))\n",
    "# Random\n",
    "c=np.random.random() # single value\n",
    "print(c)\n",
    "d=np.random.random((2,5)) # 2x5 matrix\n",
    "print(d)\n",
    "e=np.random.randint(0,100) # random integer inbetween 0 to 100\n",
    "print(e)\n",
    "f=np.random.randint(0,100,(2,5))# random integer inbetween 0 to 100 of shape 2 x5\n",
    "print(f)"
   ]
  },
  {
   "cell_type": "code",
   "execution_count": 7,
   "metadata": {},
   "outputs": [],
   "source": [
    "np.random.choice([1,2,3,4])\n",
    "np.random.shuffle([1,2,3,4])\n",
    "np.random.seed(123)"
   ]
  },
  {
   "cell_type": "code",
   "execution_count": 8,
   "metadata": {
    "scrolled": true
   },
   "outputs": [
    {
     "name": "stdout",
     "output_type": "stream",
     "text": [
      "[[ 75 124 130]\n",
      " [ 42 102  71]\n",
      " [122 129 112]]\n",
      "[[57 60 66]\n",
      " [-8 64 43]\n",
      " [50 65 80]]\n",
      "[[132 184 196]\n",
      " [ 34 166 114]\n",
      " [172 194 192]]\n",
      "[[ 594 2944 3136]\n",
      " [ 425 1577  798]\n",
      " [3096 3104 1536]]\n",
      "[[6422 6996 4968]\n",
      " [4280 3945 2618]\n",
      " [6655 7667 5646]]\n",
      "[[6422 6996 4968]\n",
      " [4280 3945 2618]\n",
      " [6655 7667 5646]]\n",
      "[[287496 778688 941192]\n",
      " [  4913 571787 185193]\n",
      " [636056 912673 884736]]\n",
      "[[0 2 2]\n",
      " [2 2 0]\n",
      " [2 1 0]]\n"
     ]
    }
   ],
   "source": [
    "# numpy operations\n",
    "a=np.random.randint(0,100,(3,3))\n",
    "b=np.random.randint(0,40,(3,3))\n",
    "print(a+b) # matrix addition\n",
    "print(a-b) # matrix substraction\n",
    "print(2*a) # multiply by 2\n",
    "print(a*b) # element by elemet multiplication\n",
    "print(np.dot(a,b)) # dot product\n",
    "print(a.dot(b)) # dot product\n",
    "print(a**3) # a to poer 3\n",
    "print(a%3) # modulo by 3"
   ]
  },
  {
   "cell_type": "code",
   "execution_count": 9,
   "metadata": {
    "scrolled": true
   },
   "outputs": [
    {
     "name": "stdout",
     "output_type": "stream",
     "text": [
      "[[68 49]\n",
      " [55 67]]\n",
      "Total Sum 239\n",
      "Sum column wise [123 116]\n",
      "Sum row wise [117 122]\n",
      "0\n",
      "[0 1]\n",
      "[0 1]\n"
     ]
    }
   ],
   "source": [
    "# numpy functions\n",
    "a=np.random.randint(0,100,(2,2))\n",
    "print(a)\n",
    "print('Total Sum',np.sum(a))\n",
    "print('Sum column wise',np.sum(a,axis=0))\n",
    "print('Sum row wise',np.sum(a,axis=1))\n",
    "# similirly for mean,max,std,var etc\n",
    "print(np.argmax(a)) # return maximum index\n",
    "print(np.argmax(a,axis=1)) # return maximum index in row\n",
    "print(np.argmax(a,axis=0)) # return maximum index in col"
   ]
  },
  {
   "cell_type": "code",
   "execution_count": 11,
   "metadata": {},
   "outputs": [
    {
     "name": "stdout",
     "output_type": "stream",
     "text": [
      "2.718281828459045\n",
      "1.4142135623730951\n",
      "2.0\n",
      "4.0\n",
      "4.0\n",
      "4.0\n"
     ]
    }
   ],
   "source": [
    "print(np.exp(1))\n",
    "print(np.sqrt(2))\n",
    "print(np.std([1,2,3,4,5,6,7]))\n",
    "print(np.mean([1,2,3,4,5,6,7]))\n",
    "print(np.var([1,2,3,4,5,6,7]))\n",
    "print(np.median([1,2,3,4,5,6,7]))"
   ]
  },
  {
   "cell_type": "code",
   "execution_count": 12,
   "metadata": {},
   "outputs": [
    {
     "data": {
      "text/plain": [
       "array([1, 2, 3, 4, 5, 6, 7])"
      ]
     },
     "execution_count": 12,
     "metadata": {},
     "output_type": "execute_result"
    }
   ],
   "source": [
    "x=[1,2,3,4,5,6,7]\n",
    "np.array(x)"
   ]
  },
  {
   "cell_type": "code",
   "execution_count": 13,
   "metadata": {},
   "outputs": [
    {
     "name": "stdout",
     "output_type": "stream",
     "text": [
      "[1 2 3 4]\n",
      "[3 3 1 1]\n"
     ]
    }
   ],
   "source": [
    "import numpy as np\n",
    "a,b=np.unique([1,2,1,2,1,2,3,4],return_counts=True)\n",
    "print(a)\n",
    "print(b)"
   ]
  }
 ],
 "metadata": {
  "kernelspec": {
   "display_name": "Python 3 (ipykernel)",
   "language": "python",
   "name": "python3"
  },
  "language_info": {
   "codemirror_mode": {
    "name": "ipython",
    "version": 3
   },
   "file_extension": ".py",
   "mimetype": "text/x-python",
   "name": "python",
   "nbconvert_exporter": "python",
   "pygments_lexer": "ipython3",
   "version": "3.10.12"
  }
 },
 "nbformat": 4,
 "nbformat_minor": 4
}
