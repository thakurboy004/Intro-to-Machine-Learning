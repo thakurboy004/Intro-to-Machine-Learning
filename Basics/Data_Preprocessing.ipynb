{
 "cells": [
  {
   "cell_type": "markdown",
   "id": "5f1d9aeb",
   "metadata": {},
   "source": [
    "### Q4 Implement data preprocessing (for handle missing values by deletion and imputation, for handle missing values by LabelEncoder & OneHotEncoder) using scikitlearn.\n"
   ]
  },
  {
   "cell_type": "code",
   "execution_count": 6,
   "id": "c427ab0a",
   "metadata": {},
   "outputs": [
    {
     "name": "stdout",
     "output_type": "stream",
     "text": [
      "    F1  F2  F3    F4    F5  F6 Country  Color  Target\n",
      "0    0   1   2   3.0   4.0   5     IND    red    Male\n",
      "1    1   2   3   4.0   5.0   6      UK    red    Male\n",
      "2    2   3   4   5.0   6.0   7     IND    red    Male\n",
      "3    3   4   5   6.0   7.0   8      UK    red    Male\n",
      "4    4   5   6   7.0   8.0   9     IND  green    Male\n",
      "5    5   6   7   8.0   9.0  10      UK  green    Male\n",
      "6    6   7   8   9.0  10.0  11     IND  green    Male\n",
      "7    7   8   9   NaN  11.0  12      UK  green  Female\n",
      "8    8   9  10   NaN  12.0  13     IND  green  Female\n",
      "9    9  10  11  12.0  13.0  14      UK  green  Female\n",
      "10  10  11  12  13.0   NaN  15     IND   blue  Female\n",
      "11  11  12  13  14.0   NaN  16      UK   blue  Female\n",
      "12  12  13  14  15.0  16.0  17     IND   blue  Female\n",
      "13  13  14  15  16.0  17.0  18      UK   blue  Female\n",
      "126\n",
      "Rows= 14\n",
      "Cols= 9\n",
      "(14, 9)\n",
      "[[0 1 2 3.0 4.0 5 'IND' 'red' 'Male']\n",
      " [1 2 3 4.0 5.0 6 'UK' 'red' 'Male']\n",
      " [2 3 4 5.0 6.0 7 'IND' 'red' 'Male']\n",
      " [3 4 5 6.0 7.0 8 'UK' 'red' 'Male']\n",
      " [4 5 6 7.0 8.0 9 'IND' 'green' 'Male']\n",
      " [5 6 7 8.0 9.0 10 'UK' 'green' 'Male']\n",
      " [6 7 8 9.0 10.0 11 'IND' 'green' 'Male']\n",
      " [7 8 9 nan 11.0 12 'UK' 'green' 'Female']\n",
      " [8 9 10 nan 12.0 13 'IND' 'green' 'Female']\n",
      " [9 10 11 12.0 13.0 14 'UK' 'green' 'Female']\n",
      " [10 11 12 13.0 nan 15 'IND' 'blue' 'Female']\n",
      " [11 12 13 14.0 nan 16 'UK' 'blue' 'Female']\n",
      " [12 13 14 15.0 16.0 17 'IND' 'blue' 'Female']\n",
      " [13 14 15 16.0 17.0 18 'UK' 'blue' 'Female']]\n",
      "DF has written sucessfully\n"
     ]
    }
   ],
   "source": [
    "import pandas as pd\n",
    "df=pd.read_csv('../Datasets/basics_data.csv') # read data\n",
    "print(df) # print DF\n",
    "print(df.size) # df size\n",
    "print('Rows=',df.shape[0])\n",
    "print('Cols=',df.shape[1])\n",
    "print(df.shape) # shape\n",
    "print(df.values) # numpy array\n",
    "df.to_csv('abc.csv',index=False)\n",
    "print('DF has written sucessfully')"
   ]
  },
  {
   "cell_type": "code",
   "execution_count": 2,
   "id": "42cafd11",
   "metadata": {},
   "outputs": [
    {
     "name": "stdout",
     "output_type": "stream",
     "text": [
      "F1         0\n",
      "F2         0\n",
      "F3         0\n",
      "F4         2\n",
      "F5         2\n",
      "F6         0\n",
      "Country    0\n",
      "Color      0\n",
      "Target     0\n",
      "dtype: int64\n",
      "    F1  F2  F3    F4    F5  F6 Country  Color  Target\n",
      "0    0   1   2   3.0   4.0   5     IND    red    Male\n",
      "1    1   2   3   4.0   5.0   6      UK    red    Male\n",
      "2    2   3   4   5.0   6.0   7     IND    red    Male\n",
      "3    3   4   5   6.0   7.0   8      UK    red    Male\n",
      "4    4   5   6   7.0   8.0   9     IND  green    Male\n",
      "5    5   6   7   8.0   9.0  10      UK  green    Male\n",
      "6    6   7   8   9.0  10.0  11     IND  green    Male\n",
      "9    9  10  11  12.0  13.0  14      UK  green  Female\n",
      "12  12  13  14  15.0  16.0  17     IND   blue  Female\n",
      "13  13  14  15  16.0  17.0  18      UK   blue  Female\n",
      "F1         0\n",
      "F2         0\n",
      "F3         0\n",
      "F4         0\n",
      "F5         0\n",
      "F6         0\n",
      "Country    0\n",
      "Color      0\n",
      "Target     0\n",
      "dtype: int64\n"
     ]
    }
   ],
   "source": [
    "####### check for missing values and DELETE\n",
    "print(df.isna().sum())\n",
    "df1=df.dropna() # delete all missing values\n",
    "print(df1)\n",
    "print(df1.isna().sum())"
   ]
  },
  {
   "cell_type": "code",
   "execution_count": 3,
   "id": "3092387b",
   "metadata": {
    "scrolled": true
   },
   "outputs": [
    {
     "name": "stdout",
     "output_type": "stream",
     "text": [
      "    F1  F2  F3    F4    F5  F6  Country  Target\n",
      "0    0   1   2   3.0   4.0   5        1       0\n",
      "1    1   2   3   4.0   5.0   6        2       0\n",
      "2    2   3   4   5.0   6.0   7        1       0\n",
      "3    3   4   5   6.0   7.0   8        2       0\n",
      "4    4   5   6   7.0   8.0   9        1       0\n",
      "5    5   6   7   8.0   9.0  10        2       0\n",
      "6    6   7   8   9.0  10.0  11        1       0\n",
      "7    7   8   9   NaN  11.0  12        2       1\n",
      "8    8   9  10   NaN  12.0  13        1       1\n",
      "9    9  10  11  12.0  13.0  14        2       1\n",
      "10  10  11  12  13.0   NaN  15        1       1\n",
      "11  11  12  13  14.0   NaN  16        2       1\n",
      "12  12  13  14  15.0  16.0  17        1       1\n",
      "13  13  14  15  16.0  17.0  18        2       1\n"
     ]
    }
   ],
   "source": [
    "######### Ordinal data [dictionary mapping]\n",
    "df3=df.drop(['Color'],axis=1)\n",
    "\n",
    "map_name={'IND':1,'UK':2}\n",
    "df3['Country']=df3['Country'].map(map_name)\n",
    "dict_tar={'Male':0,'Female':1}\n",
    "df3['Target']=df3['Target'].map(dict_tar)\n",
    "print(df3)\n",
    "\n"
   ]
  },
  {
   "cell_type": "code",
   "execution_count": 4,
   "id": "55e7dc3f",
   "metadata": {},
   "outputs": [
    {
     "data": {
      "text/plain": [
       "array([[ 0.        ,  1.        ,  2.        ,  3.        ,  4.        ,\n",
       "         5.        ,  1.        ,  0.        ],\n",
       "       [ 1.        ,  2.        ,  3.        ,  4.        ,  5.        ,\n",
       "         6.        ,  2.        ,  0.        ],\n",
       "       [ 2.        ,  3.        ,  4.        ,  5.        ,  6.        ,\n",
       "         7.        ,  1.        ,  0.        ],\n",
       "       [ 3.        ,  4.        ,  5.        ,  6.        ,  7.        ,\n",
       "         8.        ,  2.        ,  0.        ],\n",
       "       [ 4.        ,  5.        ,  6.        ,  7.        ,  8.        ,\n",
       "         9.        ,  1.        ,  0.        ],\n",
       "       [ 5.        ,  6.        ,  7.        ,  8.        ,  9.        ,\n",
       "        10.        ,  2.        ,  0.        ],\n",
       "       [ 6.        ,  7.        ,  8.        ,  9.        , 10.        ,\n",
       "        11.        ,  1.        ,  0.        ],\n",
       "       [ 7.        ,  8.        ,  9.        ,  9.33333333, 11.        ,\n",
       "        12.        ,  2.        ,  1.        ],\n",
       "       [ 8.        ,  9.        , 10.        ,  9.33333333, 12.        ,\n",
       "        13.        ,  1.        ,  1.        ],\n",
       "       [ 9.        , 10.        , 11.        , 12.        , 13.        ,\n",
       "        14.        ,  2.        ,  1.        ],\n",
       "       [10.        , 11.        , 12.        , 13.        ,  9.83333333,\n",
       "        15.        ,  1.        ,  1.        ],\n",
       "       [11.        , 12.        , 13.        , 14.        ,  9.83333333,\n",
       "        16.        ,  2.        ,  1.        ],\n",
       "       [12.        , 13.        , 14.        , 15.        , 16.        ,\n",
       "        17.        ,  1.        ,  1.        ],\n",
       "       [13.        , 14.        , 15.        , 16.        , 17.        ,\n",
       "        18.        ,  2.        ,  1.        ]])"
      ]
     },
     "execution_count": 4,
     "metadata": {},
     "output_type": "execute_result"
    }
   ],
   "source": [
    "#Handling Missing values by imputation\n",
    "import numpy as np\n",
    "from sklearn.impute import SimpleImputer\n",
    "#  #mean, meadian,most_frequent,constant, fill_value=0\n",
    "imp_mean = SimpleImputer(missing_values=np.nan, strategy='mean')#,fill_value=0)\n",
    "df3=imp_mean.fit_transform(df3)\n",
    "df3"
   ]
  },
  {
   "cell_type": "markdown",
   "id": "db2be992",
   "metadata": {},
   "source": [
    "## Encoding"
   ]
  },
  {
   "cell_type": "code",
   "execution_count": 5,
   "id": "17ab399b",
   "metadata": {},
   "outputs": [
    {
     "name": "stdout",
     "output_type": "stream",
     "text": [
      "    F1  F2  F3    F4    F5  F6  Country  Color  Target\n",
      "0    0   1   2   3.0   4.0   5        0      2       1\n",
      "1    1   2   3   4.0   5.0   6        1      2       1\n",
      "2    2   3   4   5.0   6.0   7        0      2       1\n",
      "3    3   4   5   6.0   7.0   8        1      2       1\n",
      "4    4   5   6   7.0   8.0   9        0      1       1\n",
      "5    5   6   7   8.0   9.0  10        1      1       1\n",
      "6    6   7   8   9.0  10.0  11        0      1       1\n",
      "7    7   8   9   NaN  11.0  12        1      1       0\n",
      "8    8   9  10   NaN  12.0  13        0      1       0\n",
      "9    9  10  11  12.0  13.0  14        1      1       0\n",
      "10  10  11  12  13.0   NaN  15        0      0       0\n",
      "11  11  12  13  14.0   NaN  16        1      0       0\n",
      "12  12  13  14  15.0  16.0  17        0      0       0\n",
      "13  13  14  15  16.0  17.0  18        1      0       0\n"
     ]
    }
   ],
   "source": [
    "from sklearn.preprocessing import LabelEncoder, OneHotEncoder\n",
    "# Select categorical columns\n",
    "dfOHE=df.copy()\n",
    "categorical_cols = df.select_dtypes(include=['object']).columns\n",
    "\n",
    "# Create an instance of LabelEncoder for each categorical column\n",
    "label_encoders = {}\n",
    "for col in categorical_cols:\n",
    "    label_encoders[col] = LabelEncoder()\n",
    "\n",
    "    # Fit the encoder to the data\n",
    "    label_encoders[col].fit(df[col])\n",
    "\n",
    "    # Transform the data by replacing categorical values with encoded values\n",
    "    dfOHE[col] = label_encoders[col].transform(df[col])\n",
    "    \n",
    "print(dfOHE)\n"
   ]
  },
  {
   "cell_type": "code",
   "execution_count": 6,
   "id": "245c0bc9",
   "metadata": {},
   "outputs": [
    {
     "name": "stdout",
     "output_type": "stream",
     "text": [
      "    F1  F2  F3    F4    F5  F6 Country  Color  Target\n",
      "0    0   1   2   3.0   4.0   5     IND    red    Male\n",
      "1    1   2   3   4.0   5.0   6      UK    red    Male\n",
      "2    2   3   4   5.0   6.0   7     IND    red    Male\n",
      "3    3   4   5   6.0   7.0   8      UK    red    Male\n",
      "4    4   5   6   7.0   8.0   9     IND  green    Male\n",
      "5    5   6   7   8.0   9.0  10      UK  green    Male\n",
      "6    6   7   8   9.0  10.0  11     IND  green    Male\n",
      "7    7   8   9   NaN  11.0  12      UK  green  Female\n",
      "8    8   9  10   NaN  12.0  13     IND  green  Female\n",
      "9    9  10  11  12.0  13.0  14      UK  green  Female\n",
      "10  10  11  12  13.0   NaN  15     IND   blue  Female\n",
      "11  11  12  13  14.0   NaN  16      UK   blue  Female\n",
      "12  12  13  14  15.0  16.0  17     IND   blue  Female\n",
      "13  13  14  15  16.0  17.0  18      UK   blue  Female\n",
      "[[0. 0. 1.]\n",
      " [0. 0. 1.]\n",
      " [0. 0. 1.]\n",
      " [0. 0. 1.]\n",
      " [0. 1. 0.]\n",
      " [0. 1. 0.]\n",
      " [0. 1. 0.]\n",
      " [0. 1. 0.]\n",
      " [0. 1. 0.]\n",
      " [0. 1. 0.]\n",
      " [1. 0. 0.]\n",
      " [1. 0. 0.]\n",
      " [1. 0. 0.]\n",
      " [1. 0. 0.]]\n",
      "   blue green  red\n",
      "0   0.0   0.0  1.0\n",
      "1   0.0   0.0  1.0\n",
      "2   0.0   0.0  1.0\n",
      "3   0.0   0.0  1.0\n",
      "4   0.0   1.0  0.0\n",
      "5   0.0   1.0  0.0\n",
      "6   0.0   1.0  0.0\n",
      "7   0.0   1.0  0.0\n",
      "8   0.0   1.0  0.0\n",
      "9   0.0   1.0  0.0\n",
      "10  1.0   0.0  0.0\n",
      "11  1.0   0.0  0.0\n",
      "12  1.0   0.0  0.0\n",
      "13  1.0   0.0  0.0\n",
      "    F1  F2  F3    F4    F5  F6 Country  Target  (blue,)  (green,)  (red,)\n",
      "0    0   1   2   3.0   4.0   5     IND    Male      0.0       0.0     1.0\n",
      "1    1   2   3   4.0   5.0   6      UK    Male      0.0       0.0     1.0\n",
      "2    2   3   4   5.0   6.0   7     IND    Male      0.0       0.0     1.0\n",
      "3    3   4   5   6.0   7.0   8      UK    Male      0.0       0.0     1.0\n",
      "4    4   5   6   7.0   8.0   9     IND    Male      0.0       1.0     0.0\n",
      "5    5   6   7   8.0   9.0  10      UK    Male      0.0       1.0     0.0\n",
      "6    6   7   8   9.0  10.0  11     IND    Male      0.0       1.0     0.0\n",
      "7    7   8   9   NaN  11.0  12      UK  Female      0.0       1.0     0.0\n",
      "8    8   9  10   NaN  12.0  13     IND  Female      0.0       1.0     0.0\n",
      "9    9  10  11  12.0  13.0  14      UK  Female      0.0       1.0     0.0\n",
      "10  10  11  12  13.0   NaN  15     IND  Female      1.0       0.0     0.0\n",
      "11  11  12  13  14.0   NaN  16      UK  Female      1.0       0.0     0.0\n",
      "12  12  13  14  15.0  16.0  17     IND  Female      1.0       0.0     0.0\n",
      "13  13  14  15  16.0  17.0  18      UK  Female      1.0       0.0     0.0\n"
     ]
    }
   ],
   "source": [
    "#### SKLEARN OHE\n",
    "df=pd.read_csv('basics_data.csv') # read data\n",
    "print(df)\n",
    "from sklearn.preprocessing import OneHotEncoder\n",
    "ohe=OneHotEncoder()\n",
    "x=ohe.fit_transform(df[['Color']].values).toarray()\n",
    "print(x)\n",
    "df1=pd.DataFrame(x,columns=ohe.categories_)\n",
    "print(df1)\n",
    "df2=pd.concat([df,df1],axis=1)\n",
    "df2=df2.drop(['Color'],axis=1)\n",
    "print(df2)"
   ]
  }
 ],
 "metadata": {
  "kernelspec": {
   "display_name": "Python 3 (ipykernel)",
   "language": "python",
   "name": "python3"
  },
  "language_info": {
   "codemirror_mode": {
    "name": "ipython",
    "version": 3
   },
   "file_extension": ".py",
   "mimetype": "text/x-python",
   "name": "python",
   "nbconvert_exporter": "python",
   "pygments_lexer": "ipython3",
   "version": "3.10.12"
  }
 },
 "nbformat": 4,
 "nbformat_minor": 5
}
